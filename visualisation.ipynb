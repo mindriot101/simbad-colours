{
 "cells": [
  {
   "cell_type": "code",
   "execution_count": 51,
   "metadata": {
    "collapsed": false
   },
   "outputs": [
    {
     "name": "stdout",
     "output_type": "stream",
     "text": [
      "The autoreload extension is already loaded. To reload it, use:\n",
      "  %reload_ext autoreload\n"
     ]
    }
   ],
   "source": [
    "%matplotlib inline\n",
    "\n",
    "%load_ext autoreload\n",
    "%autoreload 1\n",
    "\n",
    "from __future__ import print_function, absolute_import, division\n",
    "import warnings\n",
    "warnings.simplefilter('ignore')\n",
    "import numpy as np\n",
    "import matplotlib.pyplot as plt\n",
    "import sys\n",
    "sys.path.insert(0, '.')\n",
    "%aimport machine_learning_sptypes\n",
    "ml = machine_learning_sptypes\n",
    "from sklearn import *\n",
    "from treeinterpreter import treeinterpreter as ti"
   ]
  },
  {
   "cell_type": "code",
   "execution_count": 56,
   "metadata": {
    "collapsed": false
   },
   "outputs": [
    {
     "name": "stdout",
     "output_type": "stream",
     "text": [
      "________________________________________________________________________________\n",
      "[Memory] Calling machine_learning_sptypes.build_training_data...\n",
      "build_training_data()\n",
      "534451 unique objects\n",
      "Including 8 filters: ['B', 'H', 'I', 'J', 'K', 'R', 'U', 'V']\n",
      "['U', 'B', 'V', 'R', 'I', 'J', 'H', 'K']\n",
      "_____________________________________________build_training_data - 57.2s, 1.0min\n",
      "Read 28 features for 80443 objects\n"
     ]
    }
   ],
   "source": [
    "X, y, colours, labels = ml.build_training_data()\n",
    "print('Read {} features for {} objects'.format(X.shape[1], X.shape[0]))"
   ]
  },
  {
   "cell_type": "markdown",
   "metadata": {},
   "source": [
    "The data set contains nans where no colour information is available. We must replace these nans with something useful. A common technique is to replace the nan values with the mean of the feature. We use `preprocessing.Imputer` for this."
   ]
  },
  {
   "cell_type": "code",
   "execution_count": 53,
   "metadata": {
    "collapsed": true
   },
   "outputs": [],
   "source": [
    "imp = preprocessing.Imputer()\n",
    "imp.fit(X)\n",
    "X_trans = imp.transform(X)"
   ]
  },
  {
   "cell_type": "markdown",
   "metadata": {},
   "source": [
    "Use `build_predictor` to build the best machine for the data set. This performs a cross-validated search for the data set."
   ]
  },
  {
   "cell_type": "code",
   "execution_count": 74,
   "metadata": {
    "collapsed": false
   },
   "outputs": [],
   "source": [
    "machine = ml.build_predictor(X_trans, y)"
   ]
  },
  {
   "cell_type": "markdown",
   "metadata": {},
   "source": [
    "Let's have a look numerically about how close we are. We use `cross_val_score`, which repeatedly and randomly splits the data into chunks, and computes the score."
   ]
  },
  {
   "cell_type": "code",
   "execution_count": 75,
   "metadata": {
    "collapsed": true
   },
   "outputs": [],
   "source": [
    "cv_score = model_selection.cross_val_score(machine, X_trans, y).mean()"
   ]
  },
  {
   "cell_type": "code",
   "execution_count": 76,
   "metadata": {
    "collapsed": false
   },
   "outputs": [
    {
     "name": "stdout",
     "output_type": "stream",
     "text": [
      "Mean score when cross-validating: 23.67%\n"
     ]
    }
   ],
   "source": [
    "print('Mean score when cross-validating: {:.2f}%'.format(cv_score * 100.))"
   ]
  },
  {
   "cell_type": "code",
   "execution_count": 89,
   "metadata": {
    "collapsed": true
   },
   "outputs": [],
   "source": [
    "prediction = model_selection.cross_val_predict(machine, X_trans, y)"
   ]
  },
  {
   "cell_type": "code",
   "execution_count": 92,
   "metadata": {
    "collapsed": true
   },
   "outputs": [],
   "source": [
    "conf = metrics.confusion_matrix(y_true=y, y_pred=prediction, labels=machine.classes_)"
   ]
  },
  {
   "cell_type": "code",
   "execution_count": 93,
   "metadata": {
    "collapsed": false
   },
   "outputs": [
    {
     "data": {
      "text/plain": [
       "<matplotlib.colorbar.Colorbar at 0x7f3eec4d1dd8>"
      ]
     },
     "execution_count": 93,
     "metadata": {},
     "output_type": "execute_result"
    },
    {
     "data": {
      "image/png": "[encoded data removed]",
      "text/plain": [
       "<matplotlib.figure.Figure at 0x7f3ee2e9db00>"
      ]
     },
     "metadata": {},
     "output_type": "display_data"
    }
   ],
   "source": [
    "fig, axis = plt.subplots(figsize=(11, 8))\n",
    "mappable = axis.imshow(np.log10(conf + 1), interpolation='nearest', cmap='Blues')\n",
    "fig.colorbar(mappable, ax=axis)"
   ]
  },
  {
   "cell_type": "code",
   "execution_count": 94,
   "metadata": {
    "collapsed": false
   },
   "outputs": [
    {
     "name": "stdout",
     "output_type": "stream",
     "text": [
      "             precision    recall  f1-score   support\n",
      "\n",
      "      A0.5V       0.00      0.00      0.00         3\n",
      "        A0V       0.36      0.55      0.44      5148\n",
      "      A1.5V       0.00      0.00      0.00         2\n",
      "      A1.7V       0.00      0.00      0.00         1\n",
      "        A1V       0.19      0.19      0.19      2586\n",
      "      A2.5V       0.00      0.00      0.00         2\n",
      "      A2.7V       0.00      0.00      0.00         1\n",
      "        A2V       0.14      0.10      0.12      1347\n",
      "        A3V       0.16      0.14      0.15      1150\n",
      "        A4V       0.07      0.03      0.04       402\n",
      "        A5V       0.11      0.09      0.10       573\n",
      "        A6V       0.26      0.29      0.28       619\n",
      "        A7V       0.08      0.06      0.07       606\n",
      "        A8V       0.13      0.09      0.11       788\n",
      "        A9V       0.27      0.29      0.28      2013\n",
      "      B0.2V       0.00      0.00      0.00        11\n",
      "      B0.5V       0.10      0.09      0.10       123\n",
      "      B0.7V       0.00      0.00      0.00        24\n",
      "        B0V       0.19      0.15      0.16        96\n",
      "      B1.2V       0.00      0.00      0.00         1\n",
      "      B1.5V       0.05      0.02      0.03        82\n",
      "      B1.7V       0.00      0.00      0.00         3\n",
      "        B1V       0.18      0.17      0.18       285\n",
      "      B2.2V       0.00      0.00      0.00         3\n",
      "      B2.5V       0.00      0.00      0.00        43\n",
      "        B2V       0.25      0.23      0.24       349\n",
      "        B3V       0.18      0.14      0.16       337\n",
      "        B4V       0.06      0.04      0.05        80\n",
      "      B5.5V       0.00      0.00      0.00         1\n",
      "        B5V       0.14      0.09      0.11       310\n",
      "      B6.5V       0.00      0.00      0.00         2\n",
      "        B6V       0.04      0.02      0.03       157\n",
      "      B7.2V       0.00      0.00      0.00         1\n",
      "      B7.5V       0.00      0.00      0.00         3\n",
      "        B7V       0.06      0.02      0.03       174\n",
      "      B8.5V       0.00      0.00      0.00         6\n",
      "        B8V       0.21      0.16      0.18      1022\n",
      "      B9.2V       0.00      0.00      0.00         1\n",
      "      B9.5V       0.08      0.04      0.05      1059\n",
      "      B9.7V       0.00      0.00      0.00         1\n",
      "        B9V       0.31      0.26      0.28      2558\n",
      "      F0.5V       0.00      0.00      0.00         1\n",
      "        F0V       0.32      0.37      0.34      3650\n",
      "        F1V       0.00      0.00      0.00        42\n",
      "        F2V       0.24      0.21      0.22      2892\n",
      "      F3.5V       0.00      0.00      0.00         1\n",
      "        F3V       0.30      0.33      0.32      4152\n",
      "        F4V       0.00      0.00      0.00       142\n",
      "      F5.5V       0.00      0.00      0.00         8\n",
      "        F5V       0.32      0.39      0.35      4893\n",
      "      F6.5V       0.00      0.00      0.00         3\n",
      "        F6V       0.22      0.20      0.21      2889\n",
      "      F7.5V       0.00      0.00      0.00         1\n",
      "        F7V       0.19      0.18      0.19      2342\n",
      "      F8.5V       0.00      0.00      0.00        11\n",
      "        F8V       0.10      0.08      0.09      1478\n",
      "      F9.5V       0.00      0.00      0.00        13\n",
      "        F9V       0.00      0.00      0.00       102\n",
      "      G0.5V       0.00      0.00      0.00         6\n",
      "        G0V       0.25      0.29      0.27      2948\n",
      "      G1.5V       0.00      0.00      0.00         5\n",
      "        G1V       0.12      0.07      0.09       993\n",
      "      G2.5V       0.00      0.00      0.00         2\n",
      "        G2V       0.14      0.11      0.12      1252\n",
      "      G3.5V       0.00      0.00      0.00         1\n",
      "        G3V       0.26      0.27      0.26      1727\n",
      "      G4.5V       0.00      0.00      0.00         1\n",
      "        G4V       0.00      0.00      0.00        73\n",
      "      G5.5V       0.00      0.00      0.00         1\n",
      "        G5V       0.27      0.31      0.29      2116\n",
      "      G6.5V       0.00      0.00      0.00         2\n",
      "        G6V       0.18      0.14      0.16       788\n",
      "      G7.5V       0.00      0.00      0.00         1\n",
      "        G7V       0.00      0.00      0.00        81\n",
      "      G8.5V       0.00      0.00      0.00         5\n",
      "        G8V       0.25      0.29      0.27      1194\n",
      "      G9.5V       0.00      0.00      0.00         1\n",
      "        G9V       0.00      0.00      0.00       100\n",
      "      K0.5V       0.00      0.00      0.00         6\n",
      "        K0V       0.15      0.14      0.15       679\n",
      "      K1.5V       0.00      0.00      0.00         2\n",
      "        K1V       0.08      0.05      0.07       202\n",
      "      K2.5V       0.67      0.10      0.17        20\n",
      "        K2V       0.09      0.08      0.08       263\n",
      "      K3.5V       0.12      0.06      0.08        16\n",
      "        K3V       0.13      0.11      0.12       174\n",
      "      K4.5V       0.00      0.00      0.00         9\n",
      "        K4V       0.30      0.30      0.30       199\n",
      "      K5.5V       0.00      0.00      0.00         7\n",
      "        K5V       0.29      0.26      0.27       220\n",
      "      K6.5V       0.00      0.00      0.00         4\n",
      "        K6V       0.15      0.09      0.11        45\n",
      "        K7V       0.09      0.06      0.07        78\n",
      "        K8V       0.06      0.06      0.06        18\n",
      "        K9V       0.00      0.00      0.00         3\n",
      "      M0.0V       0.33      0.50      0.40         2\n",
      "      M0.5V       0.00      0.00      0.00         2\n",
      "        M0V       0.29      0.37      0.32      5070\n",
      "      M1.0V       0.00      0.00      0.00         1\n",
      "      M1.5V       0.00      0.00      0.00         4\n",
      "        M1V       0.12      0.12      0.12      2637\n",
      "      M2.0V       0.00      0.00      0.00         3\n",
      "     M2.25V       0.00      0.00      0.00         1\n",
      "      M2.4V       0.00      0.00      0.00         1\n",
      "      M2.5V       0.00      0.00      0.00        11\n",
      "      M2.6V       0.00      0.00      0.00         1\n",
      "        M2V       0.16      0.16      0.16      3225\n",
      "      M3.0V       0.00      0.00      0.00         2\n",
      "     M3.25V       0.00      0.00      0.00         2\n",
      "      M3.5V       0.00      0.00      0.00        10\n",
      "        M3V       0.19      0.19      0.19      3474\n",
      "      M4.0V       0.00      0.00      0.00         4\n",
      "      M4.1V       0.00      0.00      0.00         1\n",
      "      M4.4V       0.00      0.00      0.00         1\n",
      "      M4.5V       0.18      0.10      0.13        20\n",
      "        M4V       0.15      0.14      0.15      2609\n",
      "      M5.1V       0.00      0.00      0.00         1\n",
      "      M5.5V       0.00      0.00      0.00        10\n",
      "      M5.9V       0.00      0.00      0.00         1\n",
      "        M5V       0.06      0.05      0.05      1088\n",
      "      M6.0V       0.00      0.00      0.00         3\n",
      "      M6.5V       0.00      0.00      0.00         8\n",
      "        M6V       0.08      0.06      0.07      1233\n",
      "      M7.0V       0.00      0.00      0.00         1\n",
      "      M7.5V       0.00      0.00      0.00         5\n",
      "        M7V       0.14      0.12      0.13      1762\n",
      "      M8.5V       0.00      0.00      0.00         6\n",
      "        M8V       0.05      0.03      0.04       553\n",
      "      M9.0V       0.00      0.00      0.00         1\n",
      "      M9.5V       0.00      0.00      0.00         1\n",
      "        M9V       0.11      0.08      0.09       299\n",
      "      O2.5V       0.00      0.00      0.00         1\n",
      "        O2V       0.00      0.00      0.00         2\n",
      "      O3.5V       0.00      0.00      0.00         4\n",
      "        O3V       0.00      0.00      0.00         7\n",
      "      O4.5V       0.00      0.00      0.00         5\n",
      "        O4V       0.17      0.08      0.11        12\n",
      "      O5.5V       0.00      0.00      0.00         7\n",
      "        O5V       0.00      0.00      0.00        22\n",
      "      O6.5V       0.10      0.07      0.08        30\n",
      "        O6V       0.24      0.12      0.16        34\n",
      "      O7.5V       0.21      0.11      0.14        28\n",
      "        O7V       0.00      0.00      0.00        61\n",
      "      O8.5V       0.03      0.02      0.02        51\n",
      "        O8V       0.14      0.07      0.10        81\n",
      "      O9.2V       0.00      0.00      0.00         4\n",
      "      O9.5V       0.16      0.08      0.11        95\n",
      "      O9.7V       0.00      0.00      0.00        10\n",
      "        O9V       0.09      0.06      0.07       101\n",
      "\n",
      "avg / total       0.22      0.24      0.23     80443\n",
      "\n"
     ]
    }
   ],
   "source": [
    "print(metrics.classification_report(y_true=y, y_pred=prediction, labels=machine.classes_))"
   ]
  }
 ],
 "metadata": {
  "anaconda-cloud": {},
  "kernelspec": {
   "display_name": "Python [default]",
   "language": "python",
   "name": "python3"
  },
  "language_info": {
   "codemirror_mode": {
    "name": "ipython",
    "version": 3
   },
   "file_extension": ".py",
   "mimetype": "text/x-python",
   "name": "python",
   "nbconvert_exporter": "python",
   "pygments_lexer": "ipython3",
   "version": "3.5.2"
  }
 },
 "nbformat": 4,
 "nbformat_minor": 1
}
