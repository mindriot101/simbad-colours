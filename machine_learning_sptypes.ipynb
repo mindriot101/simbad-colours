{
 "cells": [
  {
   "cell_type": "code",
   "execution_count": 226,
   "metadata": {
    "collapsed": false
   },
   "outputs": [],
   "source": [
    "import csv\n",
    "from collections import defaultdict\n",
    "import re\n",
    "import itertools\n",
    "import math\n",
    "import numpy as np\n",
    "from sklearn import model_selection, ensemble, preprocessing, tree, metrics, externals"
   ]
  },
  {
   "cell_type": "code",
   "execution_count": 7,
   "metadata": {
    "collapsed": true
   },
   "outputs": [],
   "source": [
    "def iterate_rows():\n",
    "    with open('simbadresult.csv') as infile:\n",
    "        reader = csv.DictReader(infile)\n",
    "        for row in reader:\n",
    "            yield row"
   ]
  },
  {
   "cell_type": "code",
   "execution_count": 146,
   "metadata": {
    "collapsed": false
   },
   "outputs": [],
   "source": [
    "unique_objects = set()\n",
    "all_filters = set()\n",
    "unique_sptypes = set()\n",
    "\n",
    "# sptype_regex = re.compile(r'[OBAFGKM][0-9](I|II|III|IV|V)')\n",
    "# For now only handle main sequence stars\n",
    "sptype_regex = re.compile(r'(?P<typ>[OBAFGKM])(?P<cls>[0-9](\\.[0-9]+)?)V')\n",
    "\n",
    "sp_type_mapping = {value: index for (index, value) in enumerate('OBAFGKM')}\n",
    "\n",
    "def parse_sptype(sptype):\n",
    "    match = sptype_regex.match(sptype)\n",
    "    if match:\n",
    "        return match.group(0)\n",
    "\n",
    "def sptype_float(sptype):\n",
    "    match = sptype_regex.match(sptype)\n",
    "    if match:\n",
    "        int_component = sp_type_mapping[match.group('typ')]\n",
    "        decimal_component = float(match.group('cls')) / 9.\n",
    "        return int_component + decimal_component\n",
    "        \n",
    "for i, row in enumerate(iterate_rows()):\n",
    "    unique_objects.add(row['main_id'])\n",
    "    all_filters.add(row['filter'])\n",
    "    sptype = parse_sptype(row['sp_type'])\n",
    "    if sptype is None:\n",
    "        continue\n",
    "    unique_sptypes.add(sptype)"
   ]
  },
  {
   "cell_type": "code",
   "execution_count": 147,
   "metadata": {
    "collapsed": false
   },
   "outputs": [
    {
     "name": "stdout",
     "output_type": "stream",
     "text": [
      "534451 unique objects\n",
      "Including 8 filters: ['B', 'H', 'I', 'J', 'K', 'R', 'U', 'V']\n"
     ]
    }
   ],
   "source": [
    "all_filters = [item for item in sorted(all_filters) if item.isupper()]\n",
    "print(\"{} unique objects\".format(len(unique_objects)))\n",
    "print('Including {} filters: {}'.format(len(all_filters), all_filters ))"
   ]
  },
  {
   "cell_type": "code",
   "execution_count": 148,
   "metadata": {
    "collapsed": false
   },
   "outputs": [
    {
     "name": "stdout",
     "output_type": "stream",
     "text": [
      "['U', 'B', 'V', 'R', 'I', 'J', 'H', 'K']\n"
     ]
    }
   ],
   "source": [
    "filter_ordering = ['U', 'u', 'B', 'V', 'g', 'R', 'r', 'I', 'i', 'z', 'J', 'H', 'K']\n",
    "all_filters.sort(key=lambda f: filter_ordering.index(f))\n",
    "print(all_filters)"
   ]
  },
  {
   "cell_type": "code",
   "execution_count": 149,
   "metadata": {
    "collapsed": false
   },
   "outputs": [],
   "source": [
    "valid_colours = []\n",
    "for start_band, end_band in itertools.product(all_filters, all_filters):\n",
    "    if start_band.lower() == end_band.lower():\n",
    "        continue\n",
    "        \n",
    "    if filter_ordering.index(start_band) >= filter_ordering.index(end_band):\n",
    "        continue\n",
    "\n",
    "    valid_colours.append((start_band, end_band))"
   ]
  },
  {
   "cell_type": "code",
   "execution_count": 150,
   "metadata": {
    "collapsed": false
   },
   "outputs": [
    {
     "name": "stdout",
     "output_type": "stream",
     "text": [
      "{'R': nan, 'r': 18.997, 'g': 20.265, 'i': 18.508, 'U': nan, 'I': nan, 'K': nan, 'J': nan, 'u': 22.652, 'sp_type': 'M0V', 'V': nan, 'B': nan, 'H': nan, 'z': 18.124}\n"
     ]
    }
   ],
   "source": [
    "rows = {}\n",
    "for i, row in enumerate(iterate_rows()):\n",
    "    sp_type = parse_sptype(row['sp_type'])\n",
    "    if not sp_type:\n",
    "        continue\n",
    "        \n",
    "    mag_label = row['filter']\n",
    "    mag_value = float(row['flux'])\n",
    "    obj_id = row['main_id']\n",
    "        \n",
    "    if obj_id in rows:\n",
    "        if 'sp_type' not in rows[obj_id]:\n",
    "            rows[obj_id]['sp_type'] = sp_type\n",
    "        rows[obj_id][mag_label] = mag_value\n",
    "    else:\n",
    "        rows[obj_id] = {'sp_type': sp_type}\n",
    "        for filt in all_filters:\n",
    "            rows[obj_id][filt] = float('nan')\n",
    "        rows[obj_id][mag_label] = mag_value\n",
    "\n",
    "rows = list(rows.values())\n",
    "print(rows[0])"
   ]
  },
  {
   "cell_type": "code",
   "execution_count": 151,
   "metadata": {
    "collapsed": false
   },
   "outputs": [],
   "source": [
    "X, y = [], []\n",
    "for row in rows:\n",
    "    entry = []\n",
    "    for start_band, end_band in valid_colours:\n",
    "        colour_value = row[start_band] - row[end_band]\n",
    "        entry.append(colour_value)\n",
    "    if all(math.isnan(value) for value in entry):\n",
    "        continue\n",
    "    X.append(entry)\n",
    "    y.append(row['sp_type'])\n",
    "X, y = [np.array(data) for data in [X, y]]"
   ]
  },
  {
   "cell_type": "markdown",
   "metadata": {},
   "source": [
    "Get rid of the nan values"
   ]
  },
  {
   "cell_type": "code",
   "execution_count": 200,
   "metadata": {
    "collapsed": false
   },
   "outputs": [],
   "source": [
    "imp = preprocessing.Imputer()\n",
    "X_valid = imp.fit_transform(X)"
   ]
  },
  {
   "cell_type": "code",
   "execution_count": 198,
   "metadata": {
    "collapsed": true
   },
   "outputs": [],
   "source": [
    "def sptype_error(a, b):\n",
    "    a = np.array([sptype_float(val) for val in a])\n",
    "    b = np.array([sptype_float(val) for val in b])\n",
    "    \n",
    "    return np.sum((a - b) ** 2)\n",
    "\n",
    "sptype_score = metrics.make_scorer(sptype_error, greater_is_better=False)"
   ]
  },
  {
   "cell_type": "code",
   "execution_count": 221,
   "metadata": {
    "collapsed": false
   },
   "outputs": [
    {
     "name": "stderr",
     "output_type": "stream",
     "text": [
      "/Users/simon/work/MachineLearning/simbad-colours/venv/lib/python3.5/site-packages/sklearn/model_selection/_split.py:579: Warning: The least populated class in y has only 1 members, which is too few. The minimum number of groups for any class cannot be less than n_splits=3.\n",
      "  % (min_groups, self.n_splits)), Warning)\n",
      "/Users/simon/work/MachineLearning/simbad-colours/venv/lib/python3.5/site-packages/sklearn/model_selection/_split.py:579: Warning: The least populated class in y has only 1 members, which is too few. The minimum number of groups for any class cannot be less than n_splits=3.\n",
      "  % (min_groups, self.n_splits)), Warning)\n",
      "/Users/simon/work/MachineLearning/simbad-colours/venv/lib/python3.5/site-packages/sklearn/model_selection/_split.py:579: Warning: The least populated class in y has only 1 members, which is too few. The minimum number of groups for any class cannot be less than n_splits=3.\n",
      "  % (min_groups, self.n_splits)), Warning)\n"
     ]
    },
    {
     "data": {
      "text/plain": [
       "GridSearchCV(cv=None, error_score='raise',\n",
       "       estimator=RandomForestClassifier(bootstrap=True, class_weight=None, criterion='gini',\n",
       "            max_depth=None, max_features='auto', max_leaf_nodes=None,\n",
       "            min_impurity_split=1e-07, min_samples_leaf=1,\n",
       "            min_samples_split=2, min_weight_fraction_leaf=0.0,\n",
       "            n_estimators=10, n_jobs=1, oob_score=False, random_state=None,\n",
       "            verbose=0, warm_start=False),\n",
       "       fit_params={}, iid=True, n_jobs=-1,\n",
       "       param_grid={'n_estimators': [3, 10, 50]}, pre_dispatch='2*n_jobs',\n",
       "       refit=True, return_train_score=True,\n",
       "       scoring=make_scorer(sptype_error, greater_is_better=False),\n",
       "       verbose=0)"
      ]
     },
     "execution_count": 221,
     "metadata": {},
     "output_type": "execute_result"
    }
   ],
   "source": [
    "params = {\n",
    "    'n_estimators': [3, 10, 50],\n",
    "}\n",
    "clf = model_selection.GridSearchCV(ensemble.RandomForestClassifier(), params,\n",
    "                                   scoring=sptype_score, n_jobs=-1)\n",
    "clf.fit(X_valid, y)"
   ]
  },
  {
   "cell_type": "code",
   "execution_count": 222,
   "metadata": {
    "collapsed": false
   },
   "outputs": [
    {
     "data": {
      "text/plain": [
       "RandomForestClassifier(bootstrap=True, class_weight=None, criterion='gini',\n",
       "            max_depth=None, max_features='auto', max_leaf_nodes=None,\n",
       "            min_impurity_split=1e-07, min_samples_leaf=1,\n",
       "            min_samples_split=2, min_weight_fraction_leaf=0.0,\n",
       "            n_estimators=50, n_jobs=1, oob_score=False, random_state=None,\n",
       "            verbose=0, warm_start=False)"
      ]
     },
     "execution_count": 222,
     "metadata": {},
     "output_type": "execute_result"
    }
   ],
   "source": [
    "clf_best = clf.best_estimator_\n",
    "X_train, X_test, y_train, y_test = model_selection.train_test_split(X_valid, y)\n",
    "clf_best.fit(X_train, y_train)"
   ]
  },
  {
   "cell_type": "code",
   "execution_count": 223,
   "metadata": {
    "collapsed": false
   },
   "outputs": [
    {
     "name": "stdout",
     "output_type": "stream",
     "text": [
      "4578.67237654\n"
     ]
    }
   ],
   "source": [
    "prediction = clf_best.predict(X_test).ravel()\n",
    "total_error = sptype_error(prediction, y_test)\n",
    "print(total_error)"
   ]
  },
  {
   "cell_type": "code",
   "execution_count": 224,
   "metadata": {
    "collapsed": false
   },
   "outputs": [
    {
     "data": {
      "text/plain": [
       "[('F3V', 'F5V'),\n",
       " ('A0V', 'A0V'),\n",
       " ('F5V', 'K0V'),\n",
       " ('F6V', 'F6V'),\n",
       " ('A8V', 'B9V'),\n",
       " ('F0V', 'F2V'),\n",
       " ('A1V', 'B9V'),\n",
       " ('A2V', 'A2V'),\n",
       " ('M3V', 'M6V'),\n",
       " ('G0V', 'G0V')]"
      ]
     },
     "execution_count": 224,
     "metadata": {},
     "output_type": "execute_result"
    }
   ],
   "source": [
    "list(zip(prediction, y_test))[:10]"
   ]
  }
 ],
 "metadata": {
  "anaconda-cloud": {},
  "kernelspec": {
   "display_name": "Python [default]",
   "language": "python",
   "name": "python3"
  },
  "language_info": {
   "codemirror_mode": {
    "name": "ipython",
    "version": 3
   },
   "file_extension": ".py",
   "mimetype": "text/x-python",
   "name": "python",
   "nbconvert_exporter": "python",
   "pygments_lexer": "ipython3",
   "version": "3.5.2"
  }
 },
 "nbformat": 4,
 "nbformat_minor": 1
}
